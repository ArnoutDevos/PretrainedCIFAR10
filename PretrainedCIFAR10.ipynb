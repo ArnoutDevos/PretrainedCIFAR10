{
  "nbformat": 4,
  "nbformat_minor": 0,
  "metadata": {
    "kernelspec": {
      "display_name": "Python (myenv)",
      "language": "python",
      "name": "myenv"
    },
    "language_info": {
      "codemirror_mode": {
        "name": "ipython",
        "version": 3
      },
      "file_extension": ".py",
      "mimetype": "text/x-python",
      "name": "python",
      "nbconvert_exporter": "python",
      "pygments_lexer": "ipython3",
      "version": "3.6.9"
    },
    "colab": {
      "name": "PretrainedCIFAR10.ipynb",
      "provenance": [],
      "toc_visible": true
    },
    "accelerator": "GPU"
  },
  "cells": [
    {
      "cell_type": "markdown",
      "metadata": {
        "id": "Sy7LytXOdvYZ",
        "colab_type": "text"
      },
      "source": [
        "# CIFAR-10 pretrained - 90% accuracy"
      ]
    },
    {
      "cell_type": "markdown",
      "metadata": {
        "id": "XY0PCqDmdvYc",
        "colab_type": "text"
      },
      "source": [
        "### Author: [Arnout Devos](http://arnoutdevos.github.io/)"
      ]
    },
    {
      "cell_type": "markdown",
      "metadata": {
        "id": "pQ9CkSHhdvYd",
        "colab_type": "text"
      },
      "source": [
        "## 0. Installation"
      ]
    },
    {
      "cell_type": "markdown",
      "metadata": {
        "id": "lxYKWyI0dvYe",
        "colab_type": "text"
      },
      "source": [
        "1. Clone this repository\n",
        "```bash\n",
        "git clone https://github.com/ArnoutDevos/PretrainedCIFAR10.git\n",
        "```\n",
        "\n",
        "\n",
        "2. Move into the repo directory and install all requirements\n",
        "```\n",
        "cd PretrainedCIFAR10/\n",
        "pip install .\n",
        "```\n",
        "\n",
        "\n",
        "3. (In case of errors with cv2)\n",
        "```bash\n",
        "apt update && apt install -y libsm6 libxext6\n",
        "sudo apt-get install -y libxrender-dev\n",
        "```\n"
      ]
    },
    {
      "cell_type": "markdown",
      "metadata": {
        "id": "S6jtIf-kg520",
        "colab_type": "text"
      },
      "source": [
        "## Only Google colab"
      ]
    },
    {
      "cell_type": "code",
      "metadata": {
        "id": "_lH8Xn_8dwtM",
        "colab_type": "code",
        "colab": {
          "base_uri": "https://localhost:8080/",
          "height": 507
        },
        "outputId": "716ac574-41a7-4bdd-ea16-9455428784bc"
      },
      "source": [
        "%cd\n",
        "!git clone https://github.com/ArnoutDevos/PretrainedCIFAR10.git\n",
        "%cd PretrainedCIFAR10/\n",
        "!pip install ."
      ],
      "execution_count": 10,
      "outputs": [
        {
          "output_type": "stream",
          "text": [
            "/root\n",
            "Cloning into 'PretrainedCIFAR10'...\n",
            "remote: Enumerating objects: 59, done.\u001b[K\n",
            "remote: Counting objects: 100% (59/59), done.\u001b[K\n",
            "remote: Compressing objects: 100% (49/49), done.\u001b[K\n",
            "remote: Total 173 (delta 19), reused 32 (delta 7), pack-reused 114\u001b[K\n",
            "Receiving objects: 100% (173/173), 61.46 KiB | 345.00 KiB/s, done.\n",
            "Resolving deltas: 100% (82/82), done.\n",
            "/root/PretrainedCIFAR10\n",
            "Processing /root/PretrainedCIFAR10\n",
            "Requirement already satisfied: Pillow==6.1 in /usr/local/lib/python3.6/dist-packages (from PretrainedCIFAR10==1.0.0) (6.1.0)\n",
            "Requirement already satisfied: torchvision==0.4.2 in /usr/local/lib/python3.6/dist-packages (from PretrainedCIFAR10==1.0.0) (0.4.2)\n",
            "Requirement already satisfied: tqdm==4.41.1 in /usr/local/lib/python3.6/dist-packages (from PretrainedCIFAR10==1.0.0) (4.41.1)\n",
            "Requirement already satisfied: opencv-python==4.1.2.30 in /usr/local/lib/python3.6/dist-packages (from PretrainedCIFAR10==1.0.0) (4.1.2.30)\n",
            "Requirement already satisfied: joblib==0.14.1 in /usr/local/lib/python3.6/dist-packages (from PretrainedCIFAR10==1.0.0) (0.14.1)\n",
            "Requirement already satisfied: torch==1.3.1 in /usr/local/lib/python3.6/dist-packages (from torchvision==0.4.2->PretrainedCIFAR10==1.0.0) (1.3.1)\n",
            "Requirement already satisfied: six in /usr/local/lib/python3.6/dist-packages (from torchvision==0.4.2->PretrainedCIFAR10==1.0.0) (1.12.0)\n",
            "Requirement already satisfied: numpy in /usr/local/lib/python3.6/dist-packages (from torchvision==0.4.2->PretrainedCIFAR10==1.0.0) (1.17.5)\n",
            "Building wheels for collected packages: PretrainedCIFAR10\n",
            "  Building wheel for PretrainedCIFAR10 (setup.py) ... \u001b[?25l\u001b[?25hdone\n",
            "  Created wheel for PretrainedCIFAR10: filename=PretrainedCIFAR10-1.0.0-cp36-none-any.whl size=11794 sha256=bd66caebf9e7237e15ec7052af9edc8f62732c4ea34e46262fcd273b81005d5d\n",
            "  Stored in directory: /tmp/pip-ephem-wheel-cache-y_n6s440/wheels/9e/40/64/3e01beb6fb6ac19c55fc86f469b96c124c946c41966cd69139\n",
            "Successfully built PretrainedCIFAR10\n",
            "Installing collected packages: PretrainedCIFAR10\n",
            "  Found existing installation: PretrainedCIFAR10 1.0.0\n",
            "    Uninstalling PretrainedCIFAR10-1.0.0:\n",
            "      Successfully uninstalled PretrainedCIFAR10-1.0.0\n",
            "Successfully installed PretrainedCIFAR10-1.0.0\n"
          ],
          "name": "stdout"
        }
      ]
    },
    {
      "cell_type": "markdown",
      "metadata": {
        "id": "vkrgPlfAdvYf",
        "colab_type": "text"
      },
      "source": [
        "## 1. Import required libraries and detect GPU/CPU"
      ]
    },
    {
      "cell_type": "code",
      "metadata": {
        "id": "rCbkU5SldvYg",
        "colab_type": "code",
        "colab": {
          "base_uri": "https://localhost:8080/",
          "height": 34
        },
        "outputId": "10e96ef9-9a36-44ed-9423-e877b39c4af3"
      },
      "source": [
        "import torch # PyTorch Neural Network Library\n",
        "from tqdm import tqdm # Progress bar\n",
        "from utee import selector # Pretrained models package\n",
        "\n",
        "# Train on cuda if available\n",
        "device = torch.device('cuda:0' if torch.cuda.is_available() else 'cpu')\n",
        "#device = torch.device('cpu')\n",
        "print(\"Using device:\", device)"
      ],
      "execution_count": 11,
      "outputs": [
        {
          "output_type": "stream",
          "text": [
            "Using device: cuda:0\n"
          ],
          "name": "stdout"
        }
      ]
    },
    {
      "cell_type": "markdown",
      "metadata": {
        "id": "RyXZe7EMdvYk",
        "colab_type": "text"
      },
      "source": [
        "## 2. Dataset (download) & preparation"
      ]
    },
    {
      "cell_type": "code",
      "metadata": {
        "id": "69p50AckdvYl",
        "colab_type": "code",
        "colab": {
          "base_uri": "https://localhost:8080/",
          "height": 642
        },
        "outputId": "2f6af252-7b94-4c1e-c4ef-b04215eda2fc"
      },
      "source": [
        "model_raw, ds_fetcher, is_imagenet = selector.select('cifar10')\n",
        "ds_val = ds_fetcher(batch_size=10, train=False, val=True)"
      ],
      "execution_count": 12,
      "outputs": [
        {
          "output_type": "stream",
          "text": [
            "Building and initializing cifar10 parameters\n",
            "Sequential(\n",
            "  (0): Conv2d(3, 128, kernel_size=(3, 3), stride=(1, 1), padding=(1, 1))\n",
            "  (1): BatchNorm2d(128, eps=1e-05, momentum=0.1, affine=False, track_running_stats=True)\n",
            "  (2): ReLU()\n",
            "  (3): Conv2d(128, 128, kernel_size=(3, 3), stride=(1, 1), padding=(1, 1))\n",
            "  (4): BatchNorm2d(128, eps=1e-05, momentum=0.1, affine=False, track_running_stats=True)\n",
            "  (5): ReLU()\n",
            "  (6): MaxPool2d(kernel_size=2, stride=2, padding=0, dilation=1, ceil_mode=False)\n",
            "  (7): Conv2d(128, 256, kernel_size=(3, 3), stride=(1, 1), padding=(1, 1))\n",
            "  (8): BatchNorm2d(256, eps=1e-05, momentum=0.1, affine=False, track_running_stats=True)\n",
            "  (9): ReLU()\n",
            "  (10): Conv2d(256, 256, kernel_size=(3, 3), stride=(1, 1), padding=(1, 1))\n",
            "  (11): BatchNorm2d(256, eps=1e-05, momentum=0.1, affine=False, track_running_stats=True)\n",
            "  (12): ReLU()\n",
            "  (13): MaxPool2d(kernel_size=2, stride=2, padding=0, dilation=1, ceil_mode=False)\n",
            "  (14): Conv2d(256, 512, kernel_size=(3, 3), stride=(1, 1), padding=(1, 1))\n",
            "  (15): BatchNorm2d(512, eps=1e-05, momentum=0.1, affine=False, track_running_stats=True)\n",
            "  (16): ReLU()\n",
            "  (17): Conv2d(512, 512, kernel_size=(3, 3), stride=(1, 1), padding=(1, 1))\n",
            "  (18): BatchNorm2d(512, eps=1e-05, momentum=0.1, affine=False, track_running_stats=True)\n",
            "  (19): ReLU()\n",
            "  (20): MaxPool2d(kernel_size=2, stride=2, padding=0, dilation=1, ceil_mode=False)\n",
            "  (21): Conv2d(512, 1024, kernel_size=(3, 3), stride=(1, 1))\n",
            "  (22): BatchNorm2d(1024, eps=1e-05, momentum=0.1, affine=False, track_running_stats=True)\n",
            "  (23): ReLU()\n",
            "  (24): MaxPool2d(kernel_size=2, stride=2, padding=0, dilation=1, ceil_mode=False)\n",
            ")\n",
            "Sequential(\n",
            "  (0): Linear(in_features=1024, out_features=10, bias=True)\n",
            ")\n",
            "Downloading: \"http://ml.cs.tsinghua.edu.cn/~chenxi/pytorch-models/cifar10-d875770b.pth\" to /root/.cache/torch/checkpoints/cifar10-d875770b.pth\n",
            "100%|██████████| 35.5M/35.5M [00:18<00:00, 2.03MB/s]\n",
            "0it [00:00, ?it/s]"
          ],
          "name": "stderr"
        },
        {
          "output_type": "stream",
          "text": [
            "Building CIFAR-10 data loader with 1 workers\n",
            "Downloading https://www.cs.toronto.edu/~kriz/cifar-10-python.tar.gz to ./cifar/data/cifar10-data/cifar-10-python.tar.gz\n"
          ],
          "name": "stdout"
        },
        {
          "output_type": "stream",
          "text": [
            "100%|█████████▉| 170156032/170498071 [00:12<00:00, 15879234.78it/s]"
          ],
          "name": "stderr"
        },
        {
          "output_type": "stream",
          "text": [
            "Extracting ./cifar/data/cifar10-data/cifar-10-python.tar.gz to ./cifar/data/cifar10-data\n"
          ],
          "name": "stdout"
        }
      ]
    },
    {
      "cell_type": "markdown",
      "metadata": {
        "id": "TwFONEqudvYo",
        "colab_type": "text"
      },
      "source": [
        "## 3. Model evaluation"
      ]
    },
    {
      "cell_type": "code",
      "metadata": {
        "id": "y9hpAGQZdvYp",
        "colab_type": "code",
        "colab": {
          "base_uri": "https://localhost:8080/",
          "height": 907
        },
        "outputId": "42fcd2d6-c167-4e43-a62e-aef0363c2405"
      },
      "source": [
        "correct_total = 0.\n",
        "num_total = 0.\n",
        "model_raw = model_raw.to(device)\n",
        "\n",
        "for idx, (data, target) in enumerate(tqdm(ds_val)):\n",
        "    data =  torch.FloatTensor(data).to(device)\n",
        "    target = target.to(device)\n",
        "    \n",
        "    # Raw output of logits\n",
        "    output = model_raw(data)\n",
        "    \n",
        "    # Accumulate number of correctly classified samples + number of total samples seen\n",
        "    correct_total += torch.sum(torch.argmax(output, axis=1) == target)\n",
        "    num_total += len(target)\n",
        "    \n",
        "print(\"Accuracy: {0:2.2f}%\".format(correct_total/num_total*100))"
      ],
      "execution_count": 13,
      "outputs": [
        {
          "output_type": "stream",
          "text": [
            "\n",
            "170500096it [00:30, 15879234.78it/s]                               \n",
            "  0%|          | 1/1000 [00:00<02:05,  7.96it/s]\u001b[A\n",
            "  2%|▏         | 23/1000 [00:00<01:27, 11.19it/s]\u001b[A\n",
            "  4%|▍         | 44/1000 [00:00<01:01, 15.62it/s]\u001b[A\n",
            "  6%|▋         | 64/1000 [00:00<00:43, 21.59it/s]\u001b[A\n",
            "  8%|▊         | 83/1000 [00:00<00:31, 29.40it/s]\u001b[A\n",
            " 10%|█         | 104/1000 [00:00<00:22, 39.56it/s]\u001b[A\n",
            " 12%|█▏        | 124/1000 [00:00<00:16, 52.04it/s]\u001b[A\n",
            " 14%|█▍        | 145/1000 [00:00<00:12, 66.89it/s]\u001b[A\n",
            " 16%|█▋        | 165/1000 [00:00<00:10, 83.31it/s]\u001b[A\n",
            " 18%|█▊        | 184/1000 [00:01<00:08, 98.79it/s]\u001b[A\n",
            " 20%|██        | 203/1000 [00:01<00:06, 115.24it/s]\u001b[A\n",
            " 22%|██▏       | 224/1000 [00:01<00:05, 132.45it/s]\u001b[A\n",
            " 24%|██▍       | 244/1000 [00:01<00:05, 146.38it/s]\u001b[A\n",
            " 26%|██▋       | 265/1000 [00:01<00:04, 160.49it/s]\u001b[A\n",
            " 28%|██▊       | 285/1000 [00:01<00:04, 164.80it/s]\u001b[A\n",
            " 30%|███       | 304/1000 [00:01<00:04, 171.25it/s]\u001b[A\n",
            " 32%|███▏      | 324/1000 [00:01<00:03, 178.86it/s]\u001b[A\n",
            " 34%|███▍      | 345/1000 [00:01<00:03, 186.12it/s]\u001b[A\n",
            " 36%|███▋      | 365/1000 [00:01<00:03, 186.36it/s]\u001b[A\n",
            " 38%|███▊      | 385/1000 [00:02<00:03, 188.31it/s]\u001b[A\n",
            " 41%|████      | 406/1000 [00:02<00:03, 191.91it/s]\u001b[A\n",
            " 43%|████▎     | 427/1000 [00:02<00:02, 195.54it/s]\u001b[A\n",
            " 45%|████▍     | 447/1000 [00:02<00:02, 195.73it/s]\u001b[A\n",
            " 47%|████▋     | 468/1000 [00:02<00:02, 197.35it/s]\u001b[A\n",
            " 49%|████▉     | 488/1000 [00:02<00:02, 193.42it/s]\u001b[A\n",
            " 51%|█████     | 508/1000 [00:02<00:02, 192.06it/s]\u001b[A\n",
            " 53%|█████▎    | 529/1000 [00:02<00:02, 194.74it/s]\u001b[A\n",
            " 55%|█████▍    | 549/1000 [00:02<00:02, 196.22it/s]\u001b[A\n",
            " 57%|█████▋    | 569/1000 [00:03<00:02, 193.69it/s]\u001b[A\n",
            " 59%|█████▉    | 589/1000 [00:03<00:02, 194.07it/s]\u001b[A\n",
            " 61%|██████    | 609/1000 [00:03<00:02, 195.38it/s]\u001b[A\n",
            " 63%|██████▎   | 629/1000 [00:03<00:01, 188.03it/s]\u001b[A\n",
            " 65%|██████▍   | 649/1000 [00:03<00:01, 190.76it/s]\u001b[A\n",
            " 67%|██████▋   | 669/1000 [00:03<00:01, 193.38it/s]\u001b[A\n",
            " 69%|██████▉   | 689/1000 [00:03<00:01, 191.70it/s]\u001b[A\n",
            " 71%|███████   | 710/1000 [00:03<00:01, 196.15it/s]\u001b[A\n",
            " 73%|███████▎  | 731/1000 [00:03<00:01, 198.79it/s]\u001b[A\n",
            " 75%|███████▌  | 751/1000 [00:03<00:01, 192.67it/s]\u001b[A\n",
            " 77%|███████▋  | 771/1000 [00:04<00:01, 180.81it/s]\u001b[A\n",
            " 79%|███████▉  | 790/1000 [00:04<00:01, 176.98it/s]\u001b[A\n",
            " 81%|████████  | 809/1000 [00:04<00:01, 179.29it/s]\u001b[A\n",
            " 83%|████████▎ | 830/1000 [00:04<00:00, 186.87it/s]\u001b[A\n",
            " 85%|████████▌ | 851/1000 [00:04<00:00, 191.29it/s]\u001b[A\n",
            " 87%|████████▋ | 871/1000 [00:04<00:00, 193.76it/s]\u001b[A\n",
            " 89%|████████▉ | 891/1000 [00:04<00:00, 194.10it/s]\u001b[A\n",
            " 91%|█████████ | 911/1000 [00:04<00:00, 195.17it/s]\u001b[A\n",
            " 93%|█████████▎| 931/1000 [00:04<00:00, 195.46it/s]\u001b[A\n",
            " 95%|█████████▌| 952/1000 [00:05<00:00, 197.20it/s]\u001b[A\n",
            " 97%|█████████▋| 972/1000 [00:05<00:00, 192.53it/s]\u001b[A\n",
            " 99%|█████████▉| 992/1000 [00:05<00:00, 194.59it/s]\u001b[A\n",
            "100%|██████████| 1000/1000 [00:05<00:00, 188.50it/s]\u001b[A"
          ],
          "name": "stderr"
        },
        {
          "output_type": "stream",
          "text": [
            "Accuracy: 89.52%\n"
          ],
          "name": "stdout"
        }
      ]
    },
    {
      "cell_type": "code",
      "metadata": {
        "id": "IB6_pznBdvYs",
        "colab_type": "code",
        "colab": {}
      },
      "source": [
        ""
      ],
      "execution_count": 0,
      "outputs": []
    }
  ]
}