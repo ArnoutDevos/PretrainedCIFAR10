{
 "cells": [
  {
   "cell_type": "markdown",
   "metadata": {
    "colab_type": "text",
    "id": "Sy7LytXOdvYZ"
   },
   "source": [
    "# CIFAR-10 pretrained - 90% accuracy"
   ]
  },
  {
   "cell_type": "markdown",
   "metadata": {
    "colab_type": "text",
    "id": "XY0PCqDmdvYc"
   },
   "source": [
    "### Author: [Arnout Devos](http://arnoutdevos.github.io/)"
   ]
  },
  {
   "cell_type": "markdown",
   "metadata": {
    "colab_type": "text",
    "id": "pQ9CkSHhdvYd"
   },
   "source": [
    "## 0. Installation"
   ]
  },
  {
   "cell_type": "markdown",
   "metadata": {
    "colab_type": "text",
    "id": "lxYKWyI0dvYe"
   },
   "source": [
    "1. Clone this repository\n",
    "```bash\n",
    "git clone https://github.com/ArnoutDevos/PretrainedCIFAR10.git\n",
    "```\n",
    "\n",
    "\n",
    "2. Move into the repo directory and install all requirements\n",
    "```\n",
    "cd PretrainedCIFAR10/\n",
    "pip install .\n",
    "```\n",
    "\n",
    "\n",
    "3. (In case of errors with cv2)\n",
    "```bash\n",
    "apt update && apt install -y libsm6 libxext6\n",
    "sudo apt-get install -y libxrender-dev\n",
    "```\n"
   ]
  },
  {
   "cell_type": "markdown",
   "metadata": {
    "colab_type": "text",
    "id": "S6jtIf-kg520"
   },
   "source": [
    "## Only Google colab"
   ]
  },
  {
   "cell_type": "code",
   "execution_count": 6,
   "metadata": {
    "colab": {
     "base_uri": "https://localhost:8080/",
     "height": 507
    },
    "colab_type": "code",
    "id": "_lH8Xn_8dwtM",
    "outputId": "716ac574-41a7-4bdd-ea16-9455428784bc"
   },
   "outputs": [
    {
     "name": "stdout",
     "output_type": "stream",
     "text": [
      "/root\n",
      "Cloning into 'PretrainedCIFAR10'...\n",
      "remote: Enumerating objects: 59, done.\u001b[K\n",
      "remote: Counting objects: 100% (59/59), done.\u001b[K\n",
      "remote: Compressing objects: 100% (49/49), done.\u001b[K\n",
      "remote: Total 173 (delta 19), reused 32 (delta 7), pack-reused 114\u001b[K\n",
      "Receiving objects: 100% (173/173), 61.46 KiB | 605.00 KiB/s, done.\n",
      "Resolving deltas: 100% (82/82), done.\n",
      "/root/PretrainedCIFAR10\n",
      "Processing /root/PretrainedCIFAR10\n",
      "Requirement already satisfied: Pillow==6.1 in /root/anaconda3/envs/my_env/lib/python3.6/site-packages (from PretrainedCIFAR10==1.0.0) (6.1.0)\n",
      "Requirement already satisfied: torchvision==0.4.2 in /root/anaconda3/envs/my_env/lib/python3.6/site-packages (from PretrainedCIFAR10==1.0.0) (0.4.2)\n",
      "Requirement already satisfied: tqdm==4.41.1 in /root/anaconda3/envs/my_env/lib/python3.6/site-packages (from PretrainedCIFAR10==1.0.0) (4.41.1)\n",
      "Requirement already satisfied: opencv-python==4.1.2.30 in /root/anaconda3/envs/my_env/lib/python3.6/site-packages (from PretrainedCIFAR10==1.0.0) (4.1.2.30)\n",
      "Requirement already satisfied: joblib==0.14.1 in /root/anaconda3/envs/my_env/lib/python3.6/site-packages (from PretrainedCIFAR10==1.0.0) (0.14.1)\n",
      "Requirement already satisfied: numpy in /root/anaconda3/envs/my_env/lib/python3.6/site-packages (from torchvision==0.4.2->PretrainedCIFAR10==1.0.0) (1.17.4)\n",
      "Requirement already satisfied: six in /root/anaconda3/envs/my_env/lib/python3.6/site-packages (from torchvision==0.4.2->PretrainedCIFAR10==1.0.0) (1.13.0)\n",
      "Requirement already satisfied: torch in /root/anaconda3/envs/my_env/lib/python3.6/site-packages (from torchvision==0.4.2->PretrainedCIFAR10==1.0.0) (1.3.1)\n",
      "Building wheels for collected packages: PretrainedCIFAR10\n",
      "  Building wheel for PretrainedCIFAR10 (setup.py) ... \u001b[?25ldone\n",
      "\u001b[?25h  Created wheel for PretrainedCIFAR10: filename=PretrainedCIFAR10-1.0.0-cp36-none-any.whl size=11794 sha256=ad33f8205254ef24644fc9fa2c40e7b765f19279416608f6fb8229eb8b4bcc96\n",
      "  Stored in directory: /tmp/pip-ephem-wheel-cache-dge1rhm6/wheels/9e/40/64/3e01beb6fb6ac19c55fc86f469b96c124c946c41966cd69139\n",
      "Successfully built PretrainedCIFAR10\n",
      "Installing collected packages: PretrainedCIFAR10\n",
      "  Found existing installation: PretrainedCIFAR10 1.0.0\n",
      "    Uninstalling PretrainedCIFAR10-1.0.0:\n",
      "      Successfully uninstalled PretrainedCIFAR10-1.0.0\n",
      "Successfully installed PretrainedCIFAR10-1.0.0\n"
     ]
    }
   ],
   "source": [
    "%cd\n",
    "!git clone https://github.com/ArnoutDevos/PretrainedCIFAR10.git\n",
    "%cd PretrainedCIFAR10/\n",
    "!pip install ."
   ]
  },
  {
   "cell_type": "markdown",
   "metadata": {
    "colab_type": "text",
    "id": "vkrgPlfAdvYf"
   },
   "source": [
    "## 1. Import required libraries and detect GPU/CPU"
   ]
  },
  {
   "cell_type": "code",
   "execution_count": 7,
   "metadata": {
    "colab": {
     "base_uri": "https://localhost:8080/",
     "height": 34
    },
    "colab_type": "code",
    "id": "rCbkU5SldvYg",
    "outputId": "10e96ef9-9a36-44ed-9423-e877b39c4af3"
   },
   "outputs": [
    {
     "name": "stdout",
     "output_type": "stream",
     "text": [
      "Using device: cuda:0\n"
     ]
    }
   ],
   "source": [
    "import torch # PyTorch Neural Network Library\n",
    "from tqdm import tqdm # Progress bar\n",
    "from utee import selector # Pretrained models package\n",
    "\n",
    "# Train on cuda if available\n",
    "device = torch.device('cuda:0' if torch.cuda.is_available() else 'cpu')\n",
    "#device = torch.device('cpu')\n",
    "print(\"Using device:\", device)"
   ]
  },
  {
   "cell_type": "markdown",
   "metadata": {
    "colab_type": "text",
    "id": "RyXZe7EMdvYk"
   },
   "source": [
    "## 2. Dataset (download) & preparation"
   ]
  },
  {
   "cell_type": "code",
   "execution_count": 8,
   "metadata": {
    "colab": {
     "base_uri": "https://localhost:8080/",
     "height": 642
    },
    "colab_type": "code",
    "id": "69p50AckdvYl",
    "outputId": "2f6af252-7b94-4c1e-c4ef-b04215eda2fc"
   },
   "outputs": [
    {
     "name": "stderr",
     "output_type": "stream",
     "text": [
      "Building and initializing cifar10 parameters\n",
      "Sequential(\n",
      "  (0): Conv2d(3, 128, kernel_size=(3, 3), stride=(1, 1), padding=(1, 1))\n",
      "  (1): BatchNorm2d(128, eps=1e-05, momentum=0.1, affine=False, track_running_stats=True)\n",
      "  (2): ReLU()\n",
      "  (3): Conv2d(128, 128, kernel_size=(3, 3), stride=(1, 1), padding=(1, 1))\n",
      "  (4): BatchNorm2d(128, eps=1e-05, momentum=0.1, affine=False, track_running_stats=True)\n",
      "  (5): ReLU()\n",
      "  (6): MaxPool2d(kernel_size=2, stride=2, padding=0, dilation=1, ceil_mode=False)\n",
      "  (7): Conv2d(128, 256, kernel_size=(3, 3), stride=(1, 1), padding=(1, 1))\n",
      "  (8): BatchNorm2d(256, eps=1e-05, momentum=0.1, affine=False, track_running_stats=True)\n",
      "  (9): ReLU()\n",
      "  (10): Conv2d(256, 256, kernel_size=(3, 3), stride=(1, 1), padding=(1, 1))\n",
      "  (11): BatchNorm2d(256, eps=1e-05, momentum=0.1, affine=False, track_running_stats=True)\n",
      "  (12): ReLU()\n",
      "  (13): MaxPool2d(kernel_size=2, stride=2, padding=0, dilation=1, ceil_mode=False)\n",
      "  (14): Conv2d(256, 512, kernel_size=(3, 3), stride=(1, 1), padding=(1, 1))\n",
      "  (15): BatchNorm2d(512, eps=1e-05, momentum=0.1, affine=False, track_running_stats=True)\n",
      "  (16): ReLU()\n",
      "  (17): Conv2d(512, 512, kernel_size=(3, 3), stride=(1, 1), padding=(1, 1))\n",
      "  (18): BatchNorm2d(512, eps=1e-05, momentum=0.1, affine=False, track_running_stats=True)\n",
      "  (19): ReLU()\n",
      "  (20): MaxPool2d(kernel_size=2, stride=2, padding=0, dilation=1, ceil_mode=False)\n",
      "  (21): Conv2d(512, 1024, kernel_size=(3, 3), stride=(1, 1))\n",
      "  (22): BatchNorm2d(1024, eps=1e-05, momentum=0.1, affine=False, track_running_stats=True)\n",
      "  (23): ReLU()\n",
      "  (24): MaxPool2d(kernel_size=2, stride=2, padding=0, dilation=1, ceil_mode=False)\n",
      ")\n",
      "Sequential(\n",
      "  (0): Linear(in_features=1024, out_features=10, bias=True)\n",
      ")\n",
      "0it [00:00, ?it/s]"
     ]
    },
    {
     "name": "stdout",
     "output_type": "stream",
     "text": [
      "Building CIFAR-10 data loader with 1 workers\n",
      "Downloading https://www.cs.toronto.edu/~kriz/cifar-10-python.tar.gz to ./cifar/data/cifar10-data/cifar-10-python.tar.gz\n"
     ]
    },
    {
     "name": "stderr",
     "output_type": "stream",
     "text": [
      "170500096it [00:06, 27707429.82it/s]                               \n"
     ]
    },
    {
     "name": "stdout",
     "output_type": "stream",
     "text": [
      "Extracting ./cifar/data/cifar10-data/cifar-10-python.tar.gz to ./cifar/data/cifar10-data\n"
     ]
    }
   ],
   "source": [
    "model_raw, ds_fetcher, is_imagenet = selector.select('cifar10')\n",
    "ds_val = ds_fetcher(batch_size=10, train=False, val=True)"
   ]
  },
  {
   "cell_type": "markdown",
   "metadata": {
    "colab_type": "text",
    "id": "TwFONEqudvYo"
   },
   "source": [
    "## 3. Model evaluation"
   ]
  },
  {
   "cell_type": "code",
   "execution_count": 9,
   "metadata": {
    "colab": {
     "base_uri": "https://localhost:8080/",
     "height": 907
    },
    "colab_type": "code",
    "id": "y9hpAGQZdvYp",
    "outputId": "42fcd2d6-c167-4e43-a62e-aef0363c2405"
   },
   "outputs": [
    {
     "name": "stderr",
     "output_type": "stream",
     "text": [
      "100%|██████████| 1000/1000 [00:02<00:00, 400.93it/s]"
     ]
    },
    {
     "name": "stdout",
     "output_type": "stream",
     "text": [
      "Accuracy: 89.52%\n"
     ]
    },
    {
     "name": "stderr",
     "output_type": "stream",
     "text": [
      "\n"
     ]
    }
   ],
   "source": [
    "correct_total = 0.\n",
    "num_total = 0.\n",
    "model_raw = model_raw.to(device)\n",
    "\n",
    "for idx, (data, target) in enumerate(tqdm(ds_val)):\n",
    "    data =  torch.FloatTensor(data).to(device)\n",
    "    target = target.to(device)\n",
    "    \n",
    "    # Raw output of logits\n",
    "    output = model_raw(data)\n",
    "    \n",
    "    # Accumulate number of correctly classified samples + number of total samples seen\n",
    "    correct_total += torch.sum(torch.argmax(output, axis=1) == target)\n",
    "    num_total += len(target)\n",
    "    \n",
    "print(\"Accuracy: {0:2.2f}%\".format(correct_total/num_total*100))"
   ]
  },
  {
   "cell_type": "code",
   "execution_count": null,
   "metadata": {
    "colab": {},
    "colab_type": "code",
    "id": "IB6_pznBdvYs"
   },
   "outputs": [],
   "source": []
  }
 ],
 "metadata": {
  "accelerator": "GPU",
  "colab": {
   "name": "PretrainedCIFAR10.ipynb",
   "provenance": [],
   "toc_visible": true
  },
  "kernelspec": {
   "display_name": "Python (myenv)",
   "language": "python",
   "name": "myenv"
  },
  "language_info": {
   "codemirror_mode": {
    "name": "ipython",
    "version": 3
   },
   "file_extension": ".py",
   "mimetype": "text/x-python",
   "name": "python",
   "nbconvert_exporter": "python",
   "pygments_lexer": "ipython3",
   "version": "3.6.9"
  }
 },
 "nbformat": 4,
 "nbformat_minor": 4
}
